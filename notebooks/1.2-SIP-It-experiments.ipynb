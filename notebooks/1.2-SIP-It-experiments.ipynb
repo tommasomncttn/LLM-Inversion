{
 "cells": [
  {
   "cell_type": "code",
   "execution_count": null,
   "id": "35495905",
   "metadata": {},
   "outputs": [],
   "source": [
    "!python experiments/top_experiments.py -i data/token_length_filtered_dataset.csv -o results/SGD_complete_meaningful.csv --token-lengths 20 --optimizers SGD > ./experiments/SGD_complete_meaningful.txt\n",
    "!python experiments/top_experiments.py -i data/random_sentences_dataset.csv -o results/SGD_20_random.csv --token-lengths 20 --optimizers SGD --layers 4 --learning-rates 1 > ./experiments/SGD_20_random.txt\n",
    "!python experiments/top_experiments.py -i data/random_sentences_dataset.csv -o results/Baseline_20_random.csv --token-lengths 20 --baseline --layers 4 --learning-rates 1 > ./experiments/Baseline_20_random.txt\n",
    "!python experiments/top_experiments.py -i data/token_length_filtered_dataset.csv -o results/Baseline_20_meaningful.csv --token-lengths 20 --baseline --layers 4 --learning-rates 1 > ./experiments/Baseline_20_meaningful.txt\n",
    "!python experiments/top_experiments.py -i data/token_length_filtered_dataset.csv -o results/ALL_complete_meaningful.csv --token-lengths 20 --optimizers Adam AdamW RMSProp LBFGS --layers 4 --learning-rates 1 > ./experiments/ALL_complete_meaningful.txt\n",
    "!python experiments/top_experiments.py -i data/token_length_filtered_dataset.csv -o results/ALL_complete_meaningful_2.csv --token-lengths 20 --optimizers Adam AdamW RMSProp LBFGS --layers 4 --learning-rates 0.01 0.1 > ./experiments/ALL_complete_meaningful.txt"
   ]
  }
 ],
 "metadata": {
  "kernelspec": {
   "display_name": "itallm2",
   "language": "python",
   "name": "python3"
  },
  "language_info": {
   "codemirror_mode": {
    "name": "ipython",
    "version": 3
   },
   "file_extension": ".py",
   "mimetype": "text/x-python",
   "name": "python",
   "nbconvert_exporter": "python",
   "pygments_lexer": "ipython3"
  }
 },
 "nbformat": 4,
 "nbformat_minor": 5
}
