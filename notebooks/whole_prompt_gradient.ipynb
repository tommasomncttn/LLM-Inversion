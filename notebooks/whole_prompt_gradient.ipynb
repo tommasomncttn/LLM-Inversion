{
 "cells": [
  {
   "cell_type": "markdown",
   "id": "9d810884",
   "metadata": {},
   "source": [
    "# whole prompt descent\n",
    "\n",
    "Can we descent on the whole prompt at once?"
   ]
  },
  {
   "cell_type": "code",
   "execution_count": null,
   "id": "9c5e0aa9",
   "metadata": {},
   "outputs": [],
   "source": [
    "# no need to restart kernel after code (in the imported files) changes\n",
    "%load_ext autoreload\n",
    "%autoreload 2 "
   ]
  },
  {
   "cell_type": "code",
   "execution_count": null,
   "id": "cb3d7896",
   "metadata": {},
   "outputs": [],
   "source": [
    "from transformers import AutoTokenizer, AutoModelForCausalLM\n",
    "import torch\n",
    "from tqdm import tqdm\n",
    "from utils import compute_last_token_embedding_grad, get_whole"
   ]
  },
  {
   "cell_type": "code",
   "execution_count": null,
   "id": "6e5f3d7b",
   "metadata": {},
   "outputs": [],
   "source": [
    "tokenizer = AutoTokenizer.from_pretrained(\"roneneldan/TinyStories-1M\")\n",
    "model = AutoModelForCausalLM.from_pretrained(\"roneneldan/TinyStories-1M\", output_hidden_states=True)"
   ]
  },
  {
   "cell_type": "code",
   "execution_count": null,
   "id": "255851be",
   "metadata": {},
   "outputs": [],
   "source": [
    "from utils.general import compute_all_token_embeddings_grad\n",
    "\n",
    "\n",
    "def invert_whole_prompt(prompt, model, tokenizer, layer_idx, n_iterations=1000, gamma=1e-1):\n",
    "    \"\"\"\n",
    "    Invert the entire prompt at once by optimizing embeddings for all tokens simultaneously.\n",
    "\n",
    "    Args:\n",
    "        prompt (str): The input prompt to invert.\n",
    "        model: The language model.\n",
    "        tokenizer: The tokenizer for the model.\n",
    "        layer_idx (int): The layer index to target for inversion.\n",
    "        n_iterations (int): Number of optimization iterations.\n",
    "        gamma (float): Step size for gradient descent.\n",
    "\n",
    "    Returns:\n",
    "        str: The reconstructed prompt.\n",
    "    \"\"\"\n",
    "    # Tokenize the prompt and get target hidden states\n",
    "    tokenized = tokenizer(prompt, return_tensors=\"pt\")\n",
    "    \n",
    "    input_ids = tokenized[\"input_ids\"].squeeze(0)\n",
    "    h_target = get_whole(prompt, model, tokenizer, layer_idx, grad=False)\n",
    "\n",
    "    # Initialize random embeddings for the entire sequence\n",
    "    embedding_matrix = model.get_input_embeddings().weight\n",
    "    vocab_size, hidden_size = embedding_matrix.shape\n",
    "    random_ids = torch.randint(0, vocab_size, (input_ids.size(0),))\n",
    "    x_i_plus_1 = embedding_matrix[random_ids]\n",
    "\n",
    "    with tqdm(total=n_iterations, desc=\"Inverting prompt\") as pbar:\n",
    "        for iteration in range(n_iterations):\n",
    "            # Compute gradients for the entire sequence\n",
    "            grad_oracle = torch.zeros_like(x_i_plus_1)\n",
    "            loss = 0\n",
    "            for i in range(input_ids.size(0)):\n",
    "                grad, token_loss = compute_last_token_embedding_grad(\n",
    "                    y=random_ids[:i + 1],\n",
    "                    llm=model,\n",
    "                    layer_idx=layer_idx,\n",
    "                    h_target=h_target[i],\n",
    "                    tokenizer=tokenizer,\n",
    "                )\n",
    "                grad_oracle[i] = grad\n",
    "                loss += token_loss\n",
    "            # print(grad_oracle.shape, loss) # [seq_len, hidden_size]\n",
    "            # use the whole sequence at once\n",
    "            grad_oracle, loss = compute_all_token_embeddings_grad(\n",
    "                y=random_ids,\n",
    "                llm=model,\n",
    "                layer_idx=layer_idx,\n",
    "                h_target=h_target,\n",
    "                tokenizer=tokenizer,\n",
    "            ) \n",
    "            # print(grad_oracle.shape, loss) # [vocab_size, hidden_size]\n",
    "            # print(x_i_plus_1.shape, embedding_matrix.shape)\n",
    "            # Update embeddings using gradient descent\n",
    "            x_i_plus_1 = x_i_plus_1 - gamma * grad_oracle\n",
    "\n",
    "            # Find the closest tokens in the embedding space\n",
    "            distances = torch.cdist(x_i_plus_1, embedding_matrix)\n",
    "            random_ids = torch.argmin(distances, dim=1)\n",
    "\n",
    "            # Decode the current reconstruction\n",
    "            reconstructed_prompt = tokenizer.decode(random_ids.tolist(), skip_special_tokens=True)\n",
    "            pbar.set_postfix({\"Loss\": loss, \"Prompt\": reconstructed_prompt})\n",
    "            pbar.update(1)\n",
    "\n",
    "            # Early stopping if the reconstruction matches the original prompt\n",
    "            if reconstructed_prompt == prompt:\n",
    "                break\n",
    "\n",
    "    return reconstructed_prompt\n",
    "\n",
    "# Example usage\n",
    "prompt = \"my name is george and I live in Greece.\"\n",
    "layer_idx = 8\n",
    "reconstructed_prompt = invert_whole_prompt(prompt, model, tokenizer, layer_idx)\n",
    "print(f\"Original: {prompt}\")\n",
    "print(f\"Reconstructed: {reconstructed_prompt}\")"
   ]
  },
  {
   "cell_type": "code",
   "execution_count": null,
   "id": "b14029df",
   "metadata": {},
   "outputs": [],
   "source": []
  }
 ],
 "metadata": {
  "kernelspec": {
   "display_name": ".venv",
   "language": "python",
   "name": "python3"
  },
  "language_info": {
   "codemirror_mode": {
    "name": "ipython",
    "version": 3
   },
   "file_extension": ".py",
   "mimetype": "text/x-python",
   "name": "python",
   "nbconvert_exporter": "python",
   "pygments_lexer": "ipython3"
  }
 },
 "nbformat": 4,
 "nbformat_minor": 5
}
